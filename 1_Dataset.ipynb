{
  "cells": [
    {
      "cell_type": "markdown",
      "metadata": {
        "id": "view-in-github",
        "colab_type": "text"
      },
      "source": [
        "<a href=\"https://colab.research.google.com/github/LJW0719/CCTV_CNN/blob/main/1_Dataset.ipynb\" target=\"_parent\"><img src=\"https://colab.research.google.com/assets/colab-badge.svg\" alt=\"Open In Colab\"/></a>"
      ]
    },
    {
      "cell_type": "markdown",
      "metadata": {
        "id": "Jxp1i4PUhL2c"
      },
      "source": [
        "# Dataset Upload\n",
        "\n",
        "---\n",
        "\n"
      ]
    },
    {
      "cell_type": "markdown",
      "metadata": {
        "id": "Brok2cfyhrtU"
      },
      "source": [
        "## Open Json File"
      ]
    },
    {
      "cell_type": "code",
      "execution_count": null,
      "metadata": {
        "id": "3dWfJEvzCboC"
      },
      "outputs": [],
      "source": [
        "import torch\n",
        "import json\n",
        "import pandas as pd"
      ]
    },
    {
      "cell_type": "code",
      "execution_count": null,
      "metadata": {
        "id": "U39NaxzODHBO"
      },
      "outputs": [],
      "source": [
        "from pprint import pprint\n",
        "with open('2021-08-06_10-00-00_fri_sunny_out_ja-ma_C0064.json') as data_file:\n",
        "  local = json.load(data_file)"
      ]
    },
    {
      "cell_type": "code",
      "execution_count": null,
      "metadata": {
        "colab": {
          "base_uri": "https://localhost:8080/",
          "height": 423
        },
        "id": "Zy66g5_RDrHi",
        "outputId": "c5550de0-aed8-4444-d645-2d5c8ac011ab"
      },
      "outputs": [
        {
          "data": {
            "text/html": [
              "\n",
              "  <div id=\"df-e4a47bd6-5f90-4229-9ad7-89320e54b5e8\">\n",
              "    <div class=\"colab-df-container\">\n",
              "      <div>\n",
              "<style scoped>\n",
              "    .dataframe tbody tr th:only-of-type {\n",
              "        vertical-align: middle;\n",
              "    }\n",
              "\n",
              "    .dataframe tbody tr th {\n",
              "        vertical-align: top;\n",
              "    }\n",
              "\n",
              "    .dataframe thead th {\n",
              "        text-align: right;\n",
              "    }\n",
              "</style>\n",
              "<table border=\"1\" class=\"dataframe\">\n",
              "  <thead>\n",
              "    <tr style=\"text-align: right;\">\n",
              "      <th></th>\n",
              "      <th>id</th>\n",
              "      <th>frame</th>\n",
              "      <th>bbox</th>\n",
              "      <th>direction</th>\n",
              "      <th>top_type</th>\n",
              "      <th>top_color</th>\n",
              "      <th>bottom_type</th>\n",
              "      <th>bottom_color</th>\n",
              "      <th>accessories</th>\n",
              "      <th>pet</th>\n",
              "    </tr>\n",
              "  </thead>\n",
              "  <tbody>\n",
              "    <tr>\n",
              "      <th>0</th>\n",
              "      <td>person_0</td>\n",
              "      <td>49</td>\n",
              "      <td>[225.537109375, 770.84375, 483.11334228515625,...</td>\n",
              "      <td>N</td>\n",
              "      <td>short_sleeve</td>\n",
              "      <td>black</td>\n",
              "      <td>long_pants</td>\n",
              "      <td>grey</td>\n",
              "      <td>umbrella</td>\n",
              "      <td>0</td>\n",
              "    </tr>\n",
              "    <tr>\n",
              "      <th>1</th>\n",
              "      <td>person_0</td>\n",
              "      <td>50</td>\n",
              "      <td>[289.3125, 717.59375, 498.6000000000022, 1043.5]</td>\n",
              "      <td>N</td>\n",
              "      <td>short_sleeve</td>\n",
              "      <td>black</td>\n",
              "      <td>long_pants</td>\n",
              "      <td>grey</td>\n",
              "      <td>umbrella</td>\n",
              "      <td>0</td>\n",
              "    </tr>\n",
              "    <tr>\n",
              "      <th>2</th>\n",
              "      <td>person_0</td>\n",
              "      <td>51</td>\n",
              "      <td>[339.46484375, 650.103515625, 546.299999999999...</td>\n",
              "      <td>N</td>\n",
              "      <td>short_sleeve</td>\n",
              "      <td>black</td>\n",
              "      <td>long_pants</td>\n",
              "      <td>grey</td>\n",
              "      <td>umbrella</td>\n",
              "      <td>0</td>\n",
              "    </tr>\n",
              "    <tr>\n",
              "      <th>3</th>\n",
              "      <td>person_0</td>\n",
              "      <td>52</td>\n",
              "      <td>[386.521484375, 605.521484375, 595.79999999999...</td>\n",
              "      <td>N</td>\n",
              "      <td>short_sleeve</td>\n",
              "      <td>black</td>\n",
              "      <td>long_pants</td>\n",
              "      <td>grey</td>\n",
              "      <td>umbrella</td>\n",
              "      <td>0</td>\n",
              "    </tr>\n",
              "    <tr>\n",
              "      <th>4</th>\n",
              "      <td>person_0</td>\n",
              "      <td>53</td>\n",
              "      <td>[431.1015625, 561.560546875, 609.4000000000015...</td>\n",
              "      <td>N</td>\n",
              "      <td>short_sleeve</td>\n",
              "      <td>black</td>\n",
              "      <td>long_pants</td>\n",
              "      <td>grey</td>\n",
              "      <td>umbrella</td>\n",
              "      <td>0</td>\n",
              "    </tr>\n",
              "    <tr>\n",
              "      <th>...</th>\n",
              "      <td>...</td>\n",
              "      <td>...</td>\n",
              "      <td>...</td>\n",
              "      <td>...</td>\n",
              "      <td>...</td>\n",
              "      <td>...</td>\n",
              "      <td>...</td>\n",
              "      <td>...</td>\n",
              "      <td>...</td>\n",
              "      <td>...</td>\n",
              "    </tr>\n",
              "    <tr>\n",
              "      <th>1259</th>\n",
              "      <td>person_17</td>\n",
              "      <td>535</td>\n",
              "      <td>[858.0, 97.0234375, 909.7999992370605, 182.700...</td>\n",
              "      <td>E</td>\n",
              "      <td>short_sleeve</td>\n",
              "      <td>yellow</td>\n",
              "      <td>short_pants</td>\n",
              "      <td>yellow</td>\n",
              "      <td>none</td>\n",
              "      <td>0</td>\n",
              "    </tr>\n",
              "    <tr>\n",
              "      <th>1260</th>\n",
              "      <td>person_17</td>\n",
              "      <td>536</td>\n",
              "      <td>[858.0, 97.0234375, 909.7999992370605, 182.700...</td>\n",
              "      <td>E</td>\n",
              "      <td>short_sleeve</td>\n",
              "      <td>yellow</td>\n",
              "      <td>short_pants</td>\n",
              "      <td>yellow</td>\n",
              "      <td>none</td>\n",
              "      <td>0</td>\n",
              "    </tr>\n",
              "    <tr>\n",
              "      <th>1261</th>\n",
              "      <td>person_17</td>\n",
              "      <td>537</td>\n",
              "      <td>[858.0, 97.0234375, 909.7999992370605, 182.700...</td>\n",
              "      <td>E</td>\n",
              "      <td>short_sleeve</td>\n",
              "      <td>yellow</td>\n",
              "      <td>short_pants</td>\n",
              "      <td>yellow</td>\n",
              "      <td>none</td>\n",
              "      <td>0</td>\n",
              "    </tr>\n",
              "    <tr>\n",
              "      <th>1262</th>\n",
              "      <td>person_17</td>\n",
              "      <td>538</td>\n",
              "      <td>[858.0, 97.0234375, 909.7999992370605, 182.700...</td>\n",
              "      <td>E</td>\n",
              "      <td>short_sleeve</td>\n",
              "      <td>yellow</td>\n",
              "      <td>short_pants</td>\n",
              "      <td>yellow</td>\n",
              "      <td>none</td>\n",
              "      <td>0</td>\n",
              "    </tr>\n",
              "    <tr>\n",
              "      <th>1263</th>\n",
              "      <td>person_17</td>\n",
              "      <td>539</td>\n",
              "      <td>[858.0, 97.0234375, 909.7999992370605, 182.700...</td>\n",
              "      <td>E</td>\n",
              "      <td>short_sleeve</td>\n",
              "      <td>yellow</td>\n",
              "      <td>short_pants</td>\n",
              "      <td>yellow</td>\n",
              "      <td>none</td>\n",
              "      <td>0</td>\n",
              "    </tr>\n",
              "  </tbody>\n",
              "</table>\n",
              "<p>1264 rows × 10 columns</p>\n",
              "</div>\n",
              "      <button class=\"colab-df-convert\" onclick=\"convertToInteractive('df-e4a47bd6-5f90-4229-9ad7-89320e54b5e8')\"\n",
              "              title=\"Convert this dataframe to an interactive table.\"\n",
              "              style=\"display:none;\">\n",
              "        \n",
              "  <svg xmlns=\"http://www.w3.org/2000/svg\" height=\"24px\"viewBox=\"0 0 24 24\"\n",
              "       width=\"24px\">\n",
              "    <path d=\"M0 0h24v24H0V0z\" fill=\"none\"/>\n",
              "    <path d=\"M18.56 5.44l.94 2.06.94-2.06 2.06-.94-2.06-.94-.94-2.06-.94 2.06-2.06.94zm-11 1L8.5 8.5l.94-2.06 2.06-.94-2.06-.94L8.5 2.5l-.94 2.06-2.06.94zm10 10l.94 2.06.94-2.06 2.06-.94-2.06-.94-.94-2.06-.94 2.06-2.06.94z\"/><path d=\"M17.41 7.96l-1.37-1.37c-.4-.4-.92-.59-1.43-.59-.52 0-1.04.2-1.43.59L10.3 9.45l-7.72 7.72c-.78.78-.78 2.05 0 2.83L4 21.41c.39.39.9.59 1.41.59.51 0 1.02-.2 1.41-.59l7.78-7.78 2.81-2.81c.8-.78.8-2.07 0-2.86zM5.41 20L4 18.59l7.72-7.72 1.47 1.35L5.41 20z\"/>\n",
              "  </svg>\n",
              "      </button>\n",
              "      \n",
              "  <style>\n",
              "    .colab-df-container {\n",
              "      display:flex;\n",
              "      flex-wrap:wrap;\n",
              "      gap: 12px;\n",
              "    }\n",
              "\n",
              "    .colab-df-convert {\n",
              "      background-color: #E8F0FE;\n",
              "      border: none;\n",
              "      border-radius: 50%;\n",
              "      cursor: pointer;\n",
              "      display: none;\n",
              "      fill: #1967D2;\n",
              "      height: 32px;\n",
              "      padding: 0 0 0 0;\n",
              "      width: 32px;\n",
              "    }\n",
              "\n",
              "    .colab-df-convert:hover {\n",
              "      background-color: #E2EBFA;\n",
              "      box-shadow: 0px 1px 2px rgba(60, 64, 67, 0.3), 0px 1px 3px 1px rgba(60, 64, 67, 0.15);\n",
              "      fill: #174EA6;\n",
              "    }\n",
              "\n",
              "    [theme=dark] .colab-df-convert {\n",
              "      background-color: #3B4455;\n",
              "      fill: #D2E3FC;\n",
              "    }\n",
              "\n",
              "    [theme=dark] .colab-df-convert:hover {\n",
              "      background-color: #434B5C;\n",
              "      box-shadow: 0px 1px 3px 1px rgba(0, 0, 0, 0.15);\n",
              "      filter: drop-shadow(0px 1px 2px rgba(0, 0, 0, 0.3));\n",
              "      fill: #FFFFFF;\n",
              "    }\n",
              "  </style>\n",
              "\n",
              "      <script>\n",
              "        const buttonEl =\n",
              "          document.querySelector('#df-e4a47bd6-5f90-4229-9ad7-89320e54b5e8 button.colab-df-convert');\n",
              "        buttonEl.style.display =\n",
              "          google.colab.kernel.accessAllowed ? 'block' : 'none';\n",
              "\n",
              "        async function convertToInteractive(key) {\n",
              "          const element = document.querySelector('#df-e4a47bd6-5f90-4229-9ad7-89320e54b5e8');\n",
              "          const dataTable =\n",
              "            await google.colab.kernel.invokeFunction('convertToInteractive',\n",
              "                                                     [key], {});\n",
              "          if (!dataTable) return;\n",
              "\n",
              "          const docLinkHtml = 'Like what you see? Visit the ' +\n",
              "            '<a target=\"_blank\" href=https://colab.research.google.com/notebooks/data_table.ipynb>data table notebook</a>'\n",
              "            + ' to learn more about interactive tables.';\n",
              "          element.innerHTML = '';\n",
              "          dataTable['output_type'] = 'display_data';\n",
              "          await google.colab.output.renderOutput(dataTable, element);\n",
              "          const docLink = document.createElement('div');\n",
              "          docLink.innerHTML = docLinkHtml;\n",
              "          element.appendChild(docLink);\n",
              "        }\n",
              "      </script>\n",
              "    </div>\n",
              "  </div>\n",
              "  "
            ],
            "text/plain": [
              "             id  frame                                               bbox  \\\n",
              "0      person_0     49  [225.537109375, 770.84375, 483.11334228515625,...   \n",
              "1      person_0     50   [289.3125, 717.59375, 498.6000000000022, 1043.5]   \n",
              "2      person_0     51  [339.46484375, 650.103515625, 546.299999999999...   \n",
              "3      person_0     52  [386.521484375, 605.521484375, 595.79999999999...   \n",
              "4      person_0     53  [431.1015625, 561.560546875, 609.4000000000015...   \n",
              "...         ...    ...                                                ...   \n",
              "1259  person_17    535  [858.0, 97.0234375, 909.7999992370605, 182.700...   \n",
              "1260  person_17    536  [858.0, 97.0234375, 909.7999992370605, 182.700...   \n",
              "1261  person_17    537  [858.0, 97.0234375, 909.7999992370605, 182.700...   \n",
              "1262  person_17    538  [858.0, 97.0234375, 909.7999992370605, 182.700...   \n",
              "1263  person_17    539  [858.0, 97.0234375, 909.7999992370605, 182.700...   \n",
              "\n",
              "     direction      top_type top_color  bottom_type bottom_color accessories  \\\n",
              "0            N  short_sleeve     black   long_pants         grey    umbrella   \n",
              "1            N  short_sleeve     black   long_pants         grey    umbrella   \n",
              "2            N  short_sleeve     black   long_pants         grey    umbrella   \n",
              "3            N  short_sleeve     black   long_pants         grey    umbrella   \n",
              "4            N  short_sleeve     black   long_pants         grey    umbrella   \n",
              "...        ...           ...       ...          ...          ...         ...   \n",
              "1259         E  short_sleeve    yellow  short_pants       yellow        none   \n",
              "1260         E  short_sleeve    yellow  short_pants       yellow        none   \n",
              "1261         E  short_sleeve    yellow  short_pants       yellow        none   \n",
              "1262         E  short_sleeve    yellow  short_pants       yellow        none   \n",
              "1263         E  short_sleeve    yellow  short_pants       yellow        none   \n",
              "\n",
              "      pet  \n",
              "0       0  \n",
              "1       0  \n",
              "2       0  \n",
              "3       0  \n",
              "4       0  \n",
              "...   ...  \n",
              "1259    0  \n",
              "1260    0  \n",
              "1261    0  \n",
              "1262    0  \n",
              "1263    0  \n",
              "\n",
              "[1264 rows x 10 columns]"
            ]
          },
          "execution_count": 15,
          "metadata": {},
          "output_type": "execute_result"
        }
      ],
      "source": [
        "df = pd.DataFrame(local['annotations'])\n",
        "df"
      ]
    },
    {
      "cell_type": "markdown",
      "metadata": {
        "id": "4MFkh-eDiE6F"
      },
      "source": [
        "## Open Video File"
      ]
    },
    {
      "cell_type": "markdown",
      "metadata": {
        "id": "jL6sYxUWigp-"
      },
      "source": [
        "### Upload Video File"
      ]
    },
    {
      "cell_type": "code",
      "execution_count": null,
      "metadata": {
        "id": "9gXQw1AicUzU"
      },
      "outputs": [],
      "source": [
        "import cv2\n",
        "from google.colab.patches import cv2_imshow"
      ]
    },
    {
      "cell_type": "code",
      "execution_count": null,
      "metadata": {
        "colab": {
          "base_uri": "https://localhost:8080/"
        },
        "id": "BW9vN58zjFl1",
        "outputId": "6fbe1907-7f45-43e4-aa14-afba3e4922b5"
      },
      "outputs": [
        {
          "data": {
            "text/plain": [
              "< cv2.VideoCapture 0x7f79c6c3f2b0>"
            ]
          },
          "execution_count": 17,
          "metadata": {},
          "output_type": "execute_result"
        }
      ],
      "source": [
        "video = cv2.VideoCapture('2021-08-06_10-00-00_fri_sunny_out_ja-ma_C0064.mp4')\n",
        "video"
      ]
    },
    {
      "cell_type": "markdown",
      "metadata": {
        "id": "bvR63utWjety"
      },
      "source": [
        "### Show Video Information"
      ]
    },
    {
      "cell_type": "code",
      "execution_count": null,
      "metadata": {
        "colab": {
          "base_uri": "https://localhost:8080/"
        },
        "id": "fKoKLSbFjoL5",
        "outputId": "ce7844da-e5ed-445d-b7ef-533ff6b74c9f"
      },
      "outputs": [
        {
          "name": "stdout",
          "output_type": "stream",
          "text": [
            "Width:  1920.0\n",
            "Height:  1080.0\n",
            "Total frame:  540.0\n",
            "FPS:  3.0\n"
          ]
        }
      ],
      "source": [
        "width = video.get(cv2.CAP_PROP_FRAME_WIDTH)\n",
        "height = video.get(cv2.CAP_PROP_FRAME_HEIGHT)\n",
        "count = video.get(cv2.CAP_PROP_FRAME_COUNT)\n",
        "fps = video.get(cv2.CAP_PROP_FPS)\n",
        "\n",
        "print('Width: ', str(width))\n",
        "print('Height: ', str(height))\n",
        "print('Total frame: ', str(count))\n",
        "print('FPS: ', str(fps))"
      ]
    },
    {
      "cell_type": "markdown",
      "metadata": {
        "id": "ohFnnvIKko-2"
      },
      "source": [
        "### Print Video File"
      ]
    },
    {
      "cell_type": "code",
      "execution_count": null,
      "metadata": {
        "colab": {
          "background_save": true
        },
        "id": "XhWdH-XjlVLx"
      },
      "outputs": [],
      "source": [
        "while video.isOpened():\n",
        "  ret, frame = video.read()\n",
        "\n",
        "  if ret:\n",
        "    reframe = cv2.resize(frame, (round(width/4), round(height/4)))\n",
        "    cv2_imshow(reframe)\n",
        "    key = cv2.waitKey(10)\n",
        "\n",
        "    if key == ord('q'):\n",
        "      break\n",
        "  else:\n",
        "    break\n",
        "\n",
        "video.release()\n",
        "cv2.destroyAllWindows()"
      ]
    }
  ],
  "metadata": {
    "colab": {
      "provenance": [],
      "include_colab_link": true
    },
    "kernelspec": {
      "display_name": "Python 3",
      "name": "python3"
    },
    "language_info": {
      "name": "python"
    }
  },
  "nbformat": 4,
  "nbformat_minor": 0
}